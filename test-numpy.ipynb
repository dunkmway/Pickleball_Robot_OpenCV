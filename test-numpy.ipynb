{
 "cells": [
  {
   "cell_type": "code",
   "execution_count": 1,
   "metadata": {},
   "outputs": [],
   "source": [
    "import cv2 as cv\n",
    "import matplotlib.pyplot as plt\n",
    "import numpy as np\n",
    "import time\n",
    "import os"
   ]
  },
  {
   "cell_type": "code",
   "execution_count": 2,
   "metadata": {},
   "outputs": [],
   "source": [
    "def findOutliers(arr):\n",
    "\n",
    "\tlower, med, upper = np.quantile(arr, [0.25, 0.5, 0.75])\n",
    "\n",
    "\trange = upper - lower\n",
    "\tmin = lower - 1.5*range\n",
    "\tmax = upper + 1.5*range\n",
    "\n",
    "\t\"\"\"print(f\"L outlier: {min}\")\n",
    "\tprint(f\"L        : {lower}\")\n",
    "\tprint(f\"Median   : {med}\")\n",
    "\tprint(f\"U        : {upper}\")\n",
    "\tprint(f\"U outlier: {max}\")\"\"\"\n",
    "\n",
    "\t# Find outliers\n",
    "\toutliers = np.where((arr < min) | (arr > max))[0]\n",
    "\t\t\n",
    "\treturn list(outliers)"
   ]
  },
  {
   "cell_type": "code",
   "execution_count": 5,
   "metadata": {},
   "outputs": [],
   "source": [
    "def processImage(filename, imageType, debug = True):\n",
    "\tfinalImage = cv.imread(filename, cv.IMREAD_COLOR)[:, :, ::-1]\n",
    "\n",
    "\t# Change image type if needed\n",
    "\tif (imageType == 'hsv'):\n",
    "\t\tfinalImage = cv.cvtColor(finalImage, cv.COLOR_RGB2HSV)\n",
    "\n",
    "\t# data\n",
    "\tdata = [[] for _ in range(finalImage.shape[2])]\n",
    "\n",
    "\t# Sort the data\n",
    "\tstart = time.time()\n",
    "\tfor i in range(finalImage.shape[2]):\n",
    "\t\tdata[i] = finalImage[:, :, i:(i + 1)]\n",
    "\t\tfor _ in range(finalImage.shape[2] - 1):\n",
    "\t\t\tdata[i] = data[i].flatten()\n",
    "\tif (debug == True):\n",
    "\t\tprint(f\"It took {time.time() - start:.3f} seconds to sort the data\")\n",
    "\n",
    "\t# Find outliers\n",
    "\tif (debug == True):\n",
    "\t\tstart = time.time()\n",
    "\tindexes = []\n",
    "\tfor i in range(finalImage.shape[2]):\n",
    "\t\tbadValues = findOutliers(data[i])\n",
    "\t\tif (len(badValues) > 0):\n",
    "\t\t\tindexes.extend(badValues)\n",
    "\toutliers = set(indexes)\n",
    "\toutliers = sorted(list(outliers), reverse = True)\n",
    "\tif (debug == True):\n",
    "\t\tprint(f\"It took {time.time() - start:.3f} seconds to find outliers\")\n",
    "\n",
    "\t# Remove Outliers\n",
    "\tif (debug == True):\n",
    "\t\tstart = time.time()\n",
    "\tfor i in range(finalImage.shape[2]):\n",
    "\t\tdata[i] = np.delete(data[i], outliers)\n",
    "\tif (debug == True):\n",
    "\t\tprint(f\"It took {time.time() - start:.3f} seconds to remove outliers\")\n",
    "\n",
    "\t# Display the data\n",
    "\tif (debug == True):\n",
    "\t\tfor i in range(finalImage.shape[2]):\n",
    "\t\t\tprint(f\"{imageType[i].upper()} Min: {np.min(data[i])}\")\n",
    "\t\t\tprint(f\"{imageType[i].upper()} Avg: {np.sum(data[i]) / len(data[i]):.1f}\")\n",
    "\t\t\tprint(f\"{imageType[i].upper()} Med: {np.quantile(data[i], 0.5)}\")\n",
    "\t\t\tprint(f\"{imageType[i].upper()} Max: {np.max(data[i])}\")\n",
    "\t\t\tprint()\n",
    "\treturn data"
   ]
  },
  {
   "cell_type": "code",
   "execution_count": 10,
   "metadata": {},
   "outputs": [
    {
     "name": "stdout",
     "output_type": "stream",
     "text": [
      "R Min: 30\n",
      "R Avg: 31.3\n",
      "R Med: 31.0\n",
      "R Max: 33\n",
      "\n",
      "G Min: 121\n",
      "G Avg: 159.0\n",
      "G Med: 161.0\n",
      "G Max: 196\n",
      "\n",
      "B Min: 126\n",
      "B Avg: 183.5\n",
      "B Med: 179.0\n",
      "B Max: 254\n",
      "\n"
     ]
    }
   ],
   "source": [
    "data = [[] for _ in range(3)]\n",
    "\n",
    "for filename in os.listdir('Images/Color-Calibration-JPG/Test-Set'):\n",
    "    f = os.path.join('Images/Color-Calibration-JPG/Test-Set', filename)\n",
    "    # checking if it is a file\n",
    "    if os.path.isfile(f):\n",
    "        if (os.path.splitext(f)[1] == '.jpg'):\n",
    "            info = processImage(f, 'hsv', False)\n",
    "            for i in range(len(info)):\n",
    "                data[i].extend(info[i])\n",
    "\n",
    "for i, color in enumerate(['R', 'G', 'B']):\n",
    "    print(f\"{color} Min: {np.min(data[i])}\")\n",
    "    print(f\"{color} Avg: {np.sum(data[i]) / len(data[i]):.1f}\")\n",
    "    print(f\"{color} Med: {np.quantile(data[i], 0.5)}\")\n",
    "    print(f\"{color} Max: {np.max(data[i])}\")\n",
    "    print()"
   ]
  }
 ],
 "metadata": {
  "kernelspec": {
   "display_name": "Python 3.10.5 64-bit",
   "language": "python",
   "name": "python3"
  },
  "language_info": {
   "codemirror_mode": {
    "name": "ipython",
    "version": 3
   },
   "file_extension": ".py",
   "mimetype": "text/x-python",
   "name": "python",
   "nbconvert_exporter": "python",
   "pygments_lexer": "ipython3",
   "version": "3.10.5"
  },
  "orig_nbformat": 4,
  "vscode": {
   "interpreter": {
    "hash": "aee8b7b246df8f9039afb4144a1f6fd8d2ca17a180786b69acc140d282b71a49"
   }
  }
 },
 "nbformat": 4,
 "nbformat_minor": 2
}
