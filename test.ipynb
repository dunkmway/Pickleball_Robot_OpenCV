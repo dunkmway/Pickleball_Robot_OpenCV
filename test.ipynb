{
 "cells": [
  {
   "cell_type": "code",
   "execution_count": 1,
   "metadata": {},
   "outputs": [],
   "source": [
    "import cv2 as cv\n",
    "import matplotlib.pyplot as plt\n",
    "import os"
   ]
  },
  {
   "cell_type": "code",
   "execution_count": 2,
   "metadata": {},
   "outputs": [],
   "source": [
    "def getMedian(lst):\n",
    "\ttemp = sorted(lst)\n",
    "\tif (len(lst) % 2 == 0):\n",
    "\t\treturn sum([temp[((len(temp) // 2) - 1)], temp[(len(temp) // 2)]]) / 2, ((len(temp) // 2) - 1)\n",
    "\telse:\n",
    "\t\treturn temp[len(temp) // 2], (len(temp) // 2)"
   ]
  },
  {
   "cell_type": "code",
   "execution_count": 3,
   "metadata": {},
   "outputs": [],
   "source": [
    "def findOutliers(lst):\n",
    "\ttemp = sorted(lst)\n",
    "\tmed, loc = getMedian(lst)\n",
    "\tlower = 0;\n",
    "\tupper = 0;\n",
    "\tif (len(lst) % 2 == 0):\n",
    "\t\tlower = getMedian(temp[:loc + 1])[0]\n",
    "\t\tupper = getMedian(temp[loc + 1:])[0]\n",
    "\telse:\n",
    "\t\tlower = getMedian(temp[:loc])[0]\n",
    "\t\tupper = getMedian(temp[loc + 1:])[0]\n",
    "\n",
    "\trange = upper - lower\n",
    "\tmin = lower - 1.5*range\n",
    "\tmax = upper + 1.5*range\n",
    "\n",
    "\t\"\"\"print(f\"L outlier: {min}\")\n",
    "\tprint(f\"L        : {lower}\")\n",
    "\tprint(f\"Median   : {med}\")\n",
    "\tprint(f\"U        : {upper}\")\n",
    "\tprint(f\"U outlier: {max}\")\"\"\"\n",
    "\n",
    "\t# Find outliers\n",
    "\toutliers = []\n",
    "\tfor i, val in enumerate(lst):\n",
    "\t\tif (val < min or val > max):\n",
    "\t\t\toutliers.append(i)\n",
    "\t\t\n",
    "\treturn outliers\n"
   ]
  },
  {
   "cell_type": "code",
   "execution_count": 68,
   "metadata": {},
   "outputs": [],
   "source": [
    "def processImage(fileName, imageType):\n",
    "\t# print(fileName)\n",
    "\timg = cv.imread(fileName, cv.IMREAD_COLOR)\n",
    "\t# print(img.shape)\n",
    "\tfinalImage = img[:, :, ::-1]\n",
    "\t# plt.imshow(finalImage)\n",
    "\n",
    "\t# Change image type if needed\n",
    "\tif (imageType == 'hsv'):\n",
    "\t\tfinalImage = cv.cvtColor(finalImage, cv.COLOR_RGB2HSV)\n",
    "\t\t# plt.imshow(finalImage)\n",
    "\n",
    "\t# data\n",
    "\tdata = [[] for _ in range(finalImage.shape[2])]\n",
    "\n",
    "\t# Sort the data\n",
    "\tfor r in range(finalImage.shape[0]):\n",
    "\t\tfor c in range(finalImage.shape[1]):\n",
    "\t\t\tfor i in range(finalImage.shape[2]):\n",
    "\t\t\t\tdata[i % finalImage.shape[2]].append(finalImage[r][c][i % finalImage.shape[2]])\n",
    "\t# print('finshed sorting data')\n",
    "\n",
    "\t# Remove outliers\n",
    "\tindexes = []\n",
    "\tfor i in range(finalImage.shape[2]):\n",
    "\t\tbadValues = findOutliers(data[i])\n",
    "\t\tif (len(badValues) > 0):\n",
    "\t\t\tindexes.extend(badValues)\n",
    "\toutliers = set(indexes)\n",
    "\toutliers = sorted(list(outliers), reverse = True)\n",
    "\t# print('found outliers')\n",
    "\n",
    "\tfor i in range(finalImage.shape[2]):\n",
    "\t\t# print('removing from shape index', i)\n",
    "\t\tfor j, index in enumerate(outliers):\n",
    "\t\t\tdel data[i][index]\n",
    "\t\t\t# print('deleted ', j + 1, ' out of ', len(outliers), end='\\r')\n",
    "\t# print('removed outliers')\n",
    "\n",
    "\t# Display the data\n",
    "\t# for i in range(finalImage.shape[2]):\n",
    "\t# \tprint(f\"{imageType[0].upper()} Min: {min(data[i])}\")\n",
    "\t# \tprint(f\"{imageType[0].upper()} Avg: {sum(data[i]) / len(data[i]):.1f}\")\n",
    "\t# \tprint(f\"{imageType[0].upper()} Med: {getMedian(data[i])[0]}\")\n",
    "\t# \tprint(f\"{imageType[0].upper()} Max: {max(data[i])}\")\n",
    "\t# \tprint()\n",
    "\t# print('~~~~~~~~~~~~~~~~~~~~~~~')\n",
    "\treturn data"
   ]
  },
  {
   "cell_type": "code",
   "execution_count": 72,
   "metadata": {},
   "outputs": [
    {
     "name": "stdout",
     "output_type": "stream",
     "text": [
      "R Min: 149\n",
      "R Avg: 199.6\n",
      "R Med: 197.0\n",
      "R Max: 246\n",
      "\n",
      "G Min: 156\n",
      "G Avg: 206.7\n",
      "G Med: 205.0\n",
      "G Max: 254\n",
      "\n",
      "B Min: 43\n",
      "B Avg: 81.0\n",
      "B Med: 78.0\n",
      "B Max: 129\n",
      "\n"
     ]
    }
   ],
   "source": [
    "data = [[] for _ in range(3)]\n",
    "\n",
    "for filename in os.listdir('Images/Color-Calibration-JPG/Test-Set'):\n",
    "    f = os.path.join('Images/Color-Calibration-JPG/Test-Set', filename)\n",
    "    # checking if it is a file\n",
    "    if os.path.isfile(f):\n",
    "        if (os.path.splitext(f)[1] == '.jpg'):\n",
    "            info = processImage(f, 'rgb')\n",
    "            for i in range(len(info)):\n",
    "                data[i].extend(info[i])\n",
    "\n",
    "for i, color in enumerate(['R', 'G', 'B']):\n",
    "    print(f\"{color} Min: {min(data[i])}\")\n",
    "    print(f\"{color} Avg: {sum(data[i]) / len(data[i]):.1f}\")\n",
    "    print(f\"{color} Med: {getMedian(data[i])[0]}\")\n",
    "    print(f\"{color} Max: {max(data[i])}\")\n",
    "    print()\n",
    "        \n"
   ]
  },
  {
   "cell_type": "code",
   "execution_count": 51,
   "metadata": {},
   "outputs": [],
   "source": [
    "def translate(value, leftMin, leftMax, rightMin, rightMax):\n",
    "    # Figure out how 'wide' each range is\n",
    "    leftSpan = leftMax - leftMin\n",
    "    rightSpan = rightMax - rightMin\n",
    "\n",
    "    # Convert the left range into a 0-1 range (float)\n",
    "    valueScaled = float(value - leftMin) / float(leftSpan)\n",
    "\n",
    "    # Convert the 0-1 range into a value in the right range.\n",
    "    return rightMin + (valueScaled * rightSpan)"
   ]
  },
  {
   "cell_type": "code",
   "execution_count": 73,
   "metadata": {},
   "outputs": [
    {
     "name": "stdout",
     "output_type": "stream",
     "text": [
      "43.76470588235294\n",
      "63.13725490196078\n",
      "70.19607843137254\n"
     ]
    }
   ],
   "source": [
    "print(translate(31, 0, 255, 0, 360))\n",
    "print(translate(161, 0, 255, 0, 100))\n",
    "print(translate(179, 0, 255, 0, 100))"
   ]
  }
 ],
 "metadata": {
  "kernelspec": {
   "display_name": "Python 3.10.5 64-bit",
   "language": "python",
   "name": "python3"
  },
  "language_info": {
   "codemirror_mode": {
    "name": "ipython",
    "version": 3
   },
   "file_extension": ".py",
   "mimetype": "text/x-python",
   "name": "python",
   "nbconvert_exporter": "python",
   "pygments_lexer": "ipython3",
   "version": "3.10.5"
  },
  "orig_nbformat": 4,
  "vscode": {
   "interpreter": {
    "hash": "aee8b7b246df8f9039afb4144a1f6fd8d2ca17a180786b69acc140d282b71a49"
   }
  }
 },
 "nbformat": 4,
 "nbformat_minor": 2
}
